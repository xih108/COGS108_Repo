{
 "cells": [
  {
   "cell_type": "markdown",
   "metadata": {
    "deletable": false,
    "editable": false,
    "nbgrader": {
     "checksum": "e6082bd677ef33ae3bc2e9f3915ac5ad",
     "grade": false,
     "grade_id": "header-1",
     "locked": true,
     "schema_version": 1,
     "solution": false
    }
   },
   "source": [
    "# COGS 108 - Assignment 1: Setting Up\n",
    "\n",
    "This assignment covers Python, git, and Github. \n",
    "\n",
    "Visit the relevant tutorials on https://github.com/COGS108/Tutorials for guidance for these topics.\n",
    "\n",
    "This assignment is out of 10 points, worth 10% of your grade."
   ]
  },
  {
   "cell_type": "markdown",
   "metadata": {
    "collapsed": true,
    "deletable": false,
    "editable": false,
    "nbgrader": {
     "checksum": "06561c8e98b8d1dac168d89295d63221",
     "grade": false,
     "grade_id": "header-2",
     "locked": true,
     "schema_version": 1,
     "solution": false
    }
   },
   "source": [
    "## IMPORTANT\n",
    "\n",
    "### In the markdown cell below, write in your Student ID and GitHub username. \n",
    "\n",
    "The details you enter below will be how we get your account details to check that you have completed the GitHub portions of this assignment.\n",
    "\n",
    "Please do not remove anything from the cell below, just add in the requested information to each line."
   ]
  },
  {
   "cell_type": "markdown",
   "metadata": {
    "collapsed": true
   },
   "source": [
    "My Student ID number is: A13561164\n",
    "\n",
    "My Github username is: xih108\n",
    "\n",
    "^Make sure this is your username, **not the email address** you used to create the account."
   ]
  },
  {
   "cell_type": "markdown",
   "metadata": {
    "deletable": false,
    "editable": false,
    "nbgrader": {
     "checksum": "5c491fec63907793949e6f64f3d22e32",
     "grade": false,
     "grade_id": "cell-474234f24f984b8b",
     "locked": true,
     "schema_version": 1,
     "solution": false
    }
   },
   "source": [
    "The following couple cells are checks that you are running the right tools for these assignments.\n",
    "\n",
    "If either of them fail, you will need to update some things. If you are not sure how, ask in office hours."
   ]
  },
  {
   "cell_type": "code",
   "execution_count": 1,
   "metadata": {
    "deletable": false,
    "editable": false,
    "nbgrader": {
     "checksum": "b6507e0cc38ffde156306e7e3bc0e52d",
     "grade": false,
     "grade_id": "cell-7aa052f9d764c077",
     "locked": true,
     "schema_version": 1,
     "solution": false
    }
   },
   "outputs": [],
   "source": [
    "# These assignments require Python 3 (not Python 2).\n",
    "# Run this cell to check your version of Python.\n",
    "import sys\n",
    "assert sys.version_info[0] == 3, \"You must use Python 3 (preferably 3.6 or 3.7) for these assignments.\""
   ]
  },
  {
   "cell_type": "code",
   "execution_count": 2,
   "metadata": {
    "deletable": false,
    "editable": false,
    "nbgrader": {
     "checksum": "cd4d69263ee1860aa981d7869082e6d5",
     "grade": false,
     "grade_id": "cell-8a898f9a42a00c16",
     "locked": true,
     "schema_version": 1,
     "solution": false
    }
   },
   "outputs": [],
   "source": [
    "# Run this cell to check your version of IPython. \n",
    "# If you get an error (the message prints out), stop and upgrade Jupyter.\n",
    "import IPython\n",
    "assert IPython.version_info[0] >= 3, \"Your version of IPython is too old, please update it.\""
   ]
  },
  {
   "cell_type": "markdown",
   "metadata": {
    "collapsed": true,
    "deletable": false,
    "editable": false,
    "nbgrader": {
     "checksum": "2e73d08913df8e7e9665e5b40569d1b2",
     "grade": false,
     "grade_id": "part1-instr",
     "locked": true,
     "schema_version": 1,
     "solution": false
    }
   },
   "source": [
    "## Part 1 (5 points)\n",
    "\n",
    "Follow along on the instructions [here](https://github.com/COGS108/Overview/blob/master/A1_Setup.pdf) to do Part 1 of the assignment with git/GitHub."
   ]
  },
  {
   "cell_type": "markdown",
   "metadata": {
    "deletable": false,
    "editable": false,
    "nbgrader": {
     "checksum": "b9383f7298e9d0710d7a019cb34ab08c",
     "grade": false,
     "grade_id": "part2-instr",
     "locked": true,
     "schema_version": 1,
     "solution": false
    }
   },
   "source": [
    "## Part 2 (5 points)\n",
    "\n",
    "This part of the assignment is focused on some practice with Python, and with practicing working with the format of the assignments. \n",
    "\n",
    "This class assumes some prior knowledge of Python. In the following questions, you will need to work with basic (standard library) data types (floats, lists, dictionaries, etc.) and control flow (conditionals, loops, functions, etc). If the questions in this section are totally unfamiliar to you, you may need revisit some practice materials to catch up with some of the programming. \n",
    "\n",
    "Through these questions, we will also prompt you to use a couple slightly more advanced standard library functions (for example, 'enumerate' and 'zip'), that may be new to you.\n",
    "\n",
    "Each question should be answerable with a relatively small number of lines of code, up to about 5-7 lines at most. \n",
    "\n",
    "If you are having any trouble, remember to visit the course tutorials (https://github.com/COGS108/Tutorials). Assignment questions often follow the structure of examples provided in the tutorials, and a large number of relevant links and external materials are also indexed in the tutorials. "
   ]
  },
  {
   "cell_type": "markdown",
   "metadata": {
    "deletable": false,
    "editable": false,
    "nbgrader": {
     "checksum": "3c05197b5ae180eb750ed3df8c85f764",
     "grade": false,
     "grade_id": "cell-e951fd233967468a",
     "locked": true,
     "schema_version": 1,
     "solution": false
    }
   },
   "source": [
    "### How to complete assignments\n",
    "\n",
    "Whenever you see:\n",
    "\n",
    "```python\n",
    "YOUR CODE HERE\n",
    "raise NotImplementedError()\n",
    "```\n",
    "\n",
    "You need to replace this section with some code that answers the questions and meets the specified criteria. Make sure you remove the 'raise' line when you do this (or your notebook will raise an error, regardless of any other code, and thus fail the grading tests).\n",
    "\n",
    "Recall that any cell with one or more `assert` statements in it is a test cell. You should not try to change or delete these cells.\n",
    "\n",
    "Note that there might be more than one `assert` for each question. \n",
    "\n",
    "If a test does fail, read the error that is printed out. The error should let you know which test failed, which may be useful for debugging."
   ]
  },
  {
   "cell_type": "code",
   "execution_count": 3,
   "metadata": {
    "deletable": false,
    "editable": false,
    "nbgrader": {
     "checksum": "65268ebb5af62f76a9b8ce9b6e51f668",
     "grade": false,
     "grade_id": "cell-182bb77c3bd740b3",
     "locked": true,
     "schema_version": 1,
     "solution": false
    }
   },
   "outputs": [
    {
     "name": "stdout",
     "output_type": "stream",
     "text": [
      "8\n"
     ]
    }
   ],
   "source": [
    "# PRINTING VARIABLES\n",
    "# A reminder that you can (and should) print and check variables as you go.\n",
    "#  This allows you to check what values they hold, and debug if anything unexpected happens.\n",
    "\n",
    "# Define a variable\n",
    "math_result = 2 * 4\n",
    "\n",
    "# Print out the value(s) of a variable.\n",
    "print(math_result)"
   ]
  },
  {
   "cell_type": "markdown",
   "metadata": {
    "deletable": false,
    "editable": false,
    "nbgrader": {
     "checksum": "b94dd2fb5d4a9278dce7234694317c7f",
     "grade": false,
     "grade_id": "cell-f76482afcae76b14",
     "locked": true,
     "schema_version": 1,
     "solution": false
    }
   },
   "source": [
    "**Question 1: Defining variables (0.5 points)**\n",
    "\n",
    "Define a tuple called `var_a`, that contains the numbers 1-10 (inclusively).  \n",
    "Define a list called `var_b`, that contains individual letters a-j (inclusively).\n"
   ]
  },
  {
   "cell_type": "code",
   "execution_count": 4,
   "metadata": {
    "deletable": false,
    "nbgrader": {
     "checksum": "5fb5cb7e42249ea6839ca16fa5f7c0d6",
     "grade": false,
     "grade_id": "cell-4db8c933a259ed1b",
     "locked": false,
     "schema_version": 1,
     "solution": true
    }
   },
   "outputs": [],
   "source": [
    "# YOUR CODE HERE\n",
    "var_a = (1,2,3,4,5,6,7,8,9,10)\n",
    "var_b = ['a', 'b', 'c', 'd', 'e', 'f', 'g', 'h', 'i', 'j']"
   ]
  },
  {
   "cell_type": "code",
   "execution_count": 5,
   "metadata": {
    "deletable": false,
    "editable": false,
    "nbgrader": {
     "checksum": "0c7e52deabc04a3de4237f287e8f198a",
     "grade": true,
     "grade_id": "cell-88582fbb27969b63",
     "locked": true,
     "points": 0.5,
     "schema_version": 1,
     "solution": false
    }
   },
   "outputs": [],
   "source": [
    "# Tests for Q1\n",
    "\n",
    "# These tests check the variables are defined\n",
    "assert var_a\n",
    "assert var_b\n",
    "\n",
    "# These tests check that the variables are the right data types\n",
    "assert isinstance(var_a, tuple)\n",
    "assert isinstance(var_b, list)\n",
    "\n",
    "# These tests check the variables have the right values\n",
    "assert var_a == (1, 2, 3, 4, 5, 6, 7, 8, 9, 10)\n",
    "assert var_b == ['a', 'b', 'c', 'd', 'e', 'f', 'g', 'h', 'i', 'j']"
   ]
  },
  {
   "cell_type": "markdown",
   "metadata": {
    "deletable": false,
    "editable": false,
    "nbgrader": {
     "checksum": "90a70ad9b0e21f9337c2a1d3a90c7c1f",
     "grade": false,
     "grade_id": "cell-699c885e5d4d90a9",
     "locked": true,
     "schema_version": 1,
     "solution": false
    }
   },
   "source": [
    "**Question 2: Defining Variables, Part II (0.5 points)**\n",
    "\n",
    "Create a Python dict called `dictionary` where the keys are the elements in `var_b` and the values are the corresponding elements in `var_a`.\n",
    "\n",
    "The `zip` function may be useful.\n",
    "\n",
    "You might also make use of a Python dictionary comprehension."
   ]
  },
  {
   "cell_type": "code",
   "execution_count": 6,
   "metadata": {
    "deletable": false,
    "nbgrader": {
     "checksum": "c5bf4ad8c931652997b7bd21be81c33a",
     "grade": false,
     "grade_id": "cell-a0c9ee8ea65481d3",
     "locked": false,
     "schema_version": 1,
     "solution": true
    }
   },
   "outputs": [],
   "source": [
    "# YOUR CODE HERE\n",
    "dictionary = dict(zip(var_b,var_a))"
   ]
  },
  {
   "cell_type": "code",
   "execution_count": 7,
   "metadata": {
    "deletable": false,
    "editable": false,
    "nbgrader": {
     "checksum": "8bbd887367ffb9134d8a7d67cec952c8",
     "grade": true,
     "grade_id": "cell-611de86b26434b5e",
     "locked": true,
     "points": 0.5,
     "schema_version": 1,
     "solution": false
    }
   },
   "outputs": [],
   "source": [
    "# Tests for Q2\n",
    "assert dictionary\n",
    "\n",
    "# There are also some hidden tests that check the contents of dictionary"
   ]
  },
  {
   "cell_type": "markdown",
   "metadata": {
    "deletable": false,
    "editable": false,
    "nbgrader": {
     "checksum": "023d9e4c2d6b35874120193cbb613d82",
     "grade": false,
     "grade_id": "cell-e355ac07c010ec1a",
     "locked": true,
     "schema_version": 1,
     "solution": false
    }
   },
   "source": [
    "**Question 3: Control Flow (1 point)**\n",
    "\n",
    "Loop through the provided list `lst`. For each element, check if it is an even number. If the element is an even number, append the INDEX of that element to the list `inds`.\n",
    "\n",
    "Note that you are adding the index to `inds`, **not the element itself**.\n",
    "   \n",
    "Hint: to check if a number is even, you can use the modulo `%` operator.\n",
    "\n",
    "Hint: to loop through an iterable, keeping track of the index, you can use the `enumerate` function."
   ]
  },
  {
   "cell_type": "code",
   "execution_count": 8,
   "metadata": {
    "deletable": false,
    "nbgrader": {
     "checksum": "0cfb88fb626a4255ce7f823b1b2d68f6",
     "grade": false,
     "grade_id": "cell-5c803671612c731a",
     "locked": false,
     "schema_version": 1,
     "solution": true
    }
   },
   "outputs": [],
   "source": [
    "# These variables are provided to you.\n",
    "lst = [1, 2, 3, 4, 5, 6, 7, 8, 9, 10, 11, 12, 13, 14, 15]\n",
    "inds = []\n",
    "\n",
    "# YOUR CODE HERE\n",
    "inds = [i for i in range(len(lst)) if lst[i] % 2 ==0]"
   ]
  },
  {
   "cell_type": "code",
   "execution_count": 9,
   "metadata": {
    "deletable": false,
    "editable": false,
    "nbgrader": {
     "checksum": "17632691917a04e0b083cf2b191443cd",
     "grade": true,
     "grade_id": "cell-90cd314531614439",
     "locked": true,
     "points": 1,
     "schema_version": 1,
     "solution": false
    }
   },
   "outputs": [],
   "source": [
    "# Test for Q3\n",
    "assert inds\n",
    "\n",
    "# There is also a hidden test that checks the contents of 'inds'"
   ]
  },
  {
   "cell_type": "markdown",
   "metadata": {
    "deletable": false,
    "editable": false,
    "nbgrader": {
     "checksum": "36896c0c5f6991767ddcfb621adf6355",
     "grade": false,
     "grade_id": "cell-55c5ff22e018213c",
     "locked": true,
     "schema_version": 1,
     "solution": false
    }
   },
   "source": [
    "**Question 4: Functions (1 point)**\n",
    "\n",
    "Write a function `squared_diff` that takes two number inputs and returns the squared difference of the two numbers i.e. $(a - b)^2$. For example:\n",
    "\n",
    "```python\n",
    ">>> squared_diff(2, 4)\n",
    "4\n",
    ">>> squared_diff(10, 1)\n",
    "81\n",
    "```"
   ]
  },
  {
   "cell_type": "code",
   "execution_count": 10,
   "metadata": {
    "deletable": false,
    "nbgrader": {
     "checksum": "b625e0c2085a390292429222ec500dcc",
     "grade": false,
     "grade_id": "add2",
     "locked": false,
     "schema_version": 1,
     "solution": true
    }
   },
   "outputs": [],
   "source": [
    "# YOUR CODE HERE\n",
    "def squared_diff(a,b):\n",
    "    return (a-b)**2"
   ]
  },
  {
   "cell_type": "code",
   "execution_count": 11,
   "metadata": {
    "deletable": false,
    "editable": false,
    "nbgrader": {
     "checksum": "564fba9a76d3ab8c76db9c8cd55fc8bf",
     "grade": true,
     "grade_id": "add2-tests",
     "locked": true,
     "points": 1,
     "schema_version": 1,
     "solution": false
    }
   },
   "outputs": [],
   "source": [
    "# Tests for Q4\n",
    "assert squared_diff(2, 4) == 4\n",
    "assert squared_diff(10, 1) == 81\n",
    "\n",
    "# There are also hidden tests that checks more cases of squared_diff"
   ]
  },
  {
   "cell_type": "markdown",
   "metadata": {
    "deletable": false,
    "editable": false,
    "nbgrader": {
     "checksum": "2ecddfb80c32661d086515013f50cfae",
     "grade": false,
     "grade_id": "cell-57addbde2ff102b5",
     "locked": true,
     "schema_version": 1,
     "solution": false
    }
   },
   "source": [
    "**Question 5: Putting it all together (1 point)**\n",
    "\n",
    "Create a dictionary named `second_dictionary`. It should have the key-value pairs as `dictionary`, *unless the original value is odd*. If so, the value in `second_dictionary` should be the squared difference of the original value and `10`.\n",
    "\n",
    "Note: to loop through key-value pairs in a dictionary, check out the `.items` method."
   ]
  },
  {
   "cell_type": "code",
   "execution_count": 12,
   "metadata": {
    "deletable": false,
    "nbgrader": {
     "checksum": "78c4a06b964a4d8e27ffc50a5a979785",
     "grade": false,
     "grade_id": "cell-50b7166b6554cfff",
     "locked": false,
     "schema_version": 1,
     "solution": true
    }
   },
   "outputs": [],
   "source": [
    "# This variable is provided to you.\n",
    "second_dictionary = dict()\n",
    "\n",
    "# YOUR CODE HERE\n",
    "for i in dictionary:\n",
    "    if dictionary[i] % 2 == 1:\n",
    "        second_dictionary[i] = squared_diff(dictionary[i],10)\n",
    "    else:\n",
    "        second_dictionary[i] = dictionary[i] "
   ]
  },
  {
   "cell_type": "code",
   "execution_count": 13,
   "metadata": {
    "deletable": false,
    "editable": false,
    "nbgrader": {
     "checksum": "e211df2b0280e85726cd99e77e86626a",
     "grade": true,
     "grade_id": "cell-234cdbef12134b0d",
     "locked": true,
     "points": 1,
     "schema_version": 1,
     "solution": false
    }
   },
   "outputs": [],
   "source": [
    "# Tests for Q5\n",
    "\n",
    "assert second_dictionary\n",
    "\n",
    "# There are hidden tests that check the contents of 'other_dictionary'."
   ]
  },
  {
   "cell_type": "markdown",
   "metadata": {
    "collapsed": true,
    "deletable": false,
    "editable": false,
    "nbgrader": {
     "checksum": "91f39f050966b8c1bb9b7b943210de50",
     "grade": false,
     "grade_id": "cell-55c1e6316ed77616",
     "locked": true,
     "schema_version": 1,
     "solution": false
    }
   },
   "source": [
    "**Question 6: Data Science Modules (1 point)**\n",
    "\n",
    "This question is just about importing the more core data science modules. We won't start using them yet. \n",
    "\n",
    "This is just to test that you have them available and working (this is the only time we'll ask you to write out your own import modules in assignments). This should work on datahub automatically, but we want to be sure *and* want to be sure you're familiar with how to do this.  \n",
    "\n",
    "If you are unable to import them, ask for help in office hours.\n",
    "\n",
    "Import the `numpy`, `scipy`, `pandas`, `matplotlib.pyplot`, `sklearn` modules as `np`, `sp`, `pd`, `plt`, `skl`, respectively."
   ]
  },
  {
   "cell_type": "code",
   "execution_count": 14,
   "metadata": {
    "deletable": false,
    "nbgrader": {
     "checksum": "c1bc21582a961cb47e36d725cf261203",
     "grade": false,
     "grade_id": "imports",
     "locked": false,
     "schema_version": 1,
     "solution": true
    }
   },
   "outputs": [],
   "source": [
    "# YOUR CODE HERE\n",
    "import numpy as np\n",
    "import scipy as sp\n",
    "import pandas as pd\n",
    "import matplotlib.pyplot as plt\n",
    "import sklearn as skl"
   ]
  },
  {
   "cell_type": "code",
   "execution_count": 15,
   "metadata": {
    "deletable": false,
    "editable": false,
    "nbgrader": {
     "checksum": "61d2bc976e36204a169c998cf74ab8e0",
     "grade": true,
     "grade_id": "autograder-tests",
     "locked": true,
     "points": 1,
     "schema_version": 1,
     "solution": false
    }
   },
   "outputs": [],
   "source": [
    "# Tests for Q6\n",
    "assert(np.array)\n",
    "assert(sp.arcsinh)\n",
    "assert(pd.DataFrame)\n",
    "assert(plt.plot)\n",
    "assert(skl.set_config)"
   ]
  },
  {
   "cell_type": "markdown",
   "metadata": {},
   "source": [
    "## Done! Re-start & run all cells to be sure that everything passes, validate, and submit on DataHub!"
   ]
  }
 ],
 "metadata": {
  "anaconda-cloud": {},
  "kernelspec": {
   "display_name": "Python 3",
   "language": "python",
   "name": "python3"
  },
  "language_info": {
   "codemirror_mode": {
    "name": "ipython",
    "version": 3
   },
   "file_extension": ".py",
   "mimetype": "text/x-python",
   "name": "python",
   "nbconvert_exporter": "python",
   "pygments_lexer": "ipython3",
   "version": "3.6.7"
  }
 },
 "nbformat": 4,
 "nbformat_minor": 1
}
